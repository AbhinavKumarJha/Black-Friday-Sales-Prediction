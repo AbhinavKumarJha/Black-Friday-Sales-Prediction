{
 "cells": [
  {
   "cell_type": "code",
   "execution_count": 1,
   "metadata": {},
   "outputs": [],
   "source": [
    "import pandas as pd\n",
    "import numpy as np\n",
    "import matplotlib.pyplot as plt\n",
    "%matplotlib inline\n",
    "from sklearn.svm import SVC\n",
    "from sklearn.linear_model import LogisticRegression\n",
    "from sklearn.preprocessing import StandardScaler\n",
    "from sklearn.ensemble import RandomForestClassifier\n",
    "from sklearn.tree import DecisionTreeClassifier\n",
    "from sklearn.model_selection import train_test_split as tts\n",
    "from sklearn.model_selection import cross_val_score"
   ]
  },
  {
   "cell_type": "code",
   "execution_count": 2,
   "metadata": {},
   "outputs": [],
   "source": [
    "from sklearn import linear_model\n",
    "from sklearn.svm import SVR\n",
    "from sklearn.ensemble import RandomForestRegressor"
   ]
  },
  {
   "cell_type": "code",
   "execution_count": 3,
   "metadata": {},
   "outputs": [],
   "source": [
    "from sklearn.linear_model import LinearRegression\n",
    "from sklearn.linear_model import Lasso,Ridge\n",
    "from sklearn.tree import DecisionTreeRegressor"
   ]
  },
  {
   "cell_type": "code",
   "execution_count": 4,
   "metadata": {},
   "outputs": [],
   "source": [
    "from sklearn import preprocessing\n",
    "le = preprocessing.LabelEncoder()"
   ]
  },
  {
   "cell_type": "code",
   "execution_count": 63,
   "metadata": {},
   "outputs": [
    {
     "name": "stdout",
     "output_type": "stream",
     "text": [
      "550068\n"
     ]
    },
    {
     "data": {
      "text/html": [
       "<div>\n",
       "<style scoped>\n",
       "    .dataframe tbody tr th:only-of-type {\n",
       "        vertical-align: middle;\n",
       "    }\n",
       "\n",
       "    .dataframe tbody tr th {\n",
       "        vertical-align: top;\n",
       "    }\n",
       "\n",
       "    .dataframe thead th {\n",
       "        text-align: right;\n",
       "    }\n",
       "</style>\n",
       "<table border=\"1\" class=\"dataframe\">\n",
       "  <thead>\n",
       "    <tr style=\"text-align: right;\">\n",
       "      <th></th>\n",
       "      <th>User_ID</th>\n",
       "      <th>Product_ID</th>\n",
       "      <th>Gender</th>\n",
       "      <th>Age</th>\n",
       "      <th>Occupation</th>\n",
       "      <th>City_Category</th>\n",
       "      <th>Stay_In_Current_City_Years</th>\n",
       "      <th>Marital_Status</th>\n",
       "      <th>Product_Category_1</th>\n",
       "      <th>Product_Category_2</th>\n",
       "      <th>Product_Category_3</th>\n",
       "      <th>Purchase</th>\n",
       "    </tr>\n",
       "  </thead>\n",
       "  <tbody>\n",
       "    <tr>\n",
       "      <th>0</th>\n",
       "      <td>1000001</td>\n",
       "      <td>P00069042</td>\n",
       "      <td>F</td>\n",
       "      <td>0-17</td>\n",
       "      <td>10</td>\n",
       "      <td>A</td>\n",
       "      <td>2</td>\n",
       "      <td>0</td>\n",
       "      <td>3</td>\n",
       "      <td>NaN</td>\n",
       "      <td>NaN</td>\n",
       "      <td>8370.0</td>\n",
       "    </tr>\n",
       "    <tr>\n",
       "      <th>1</th>\n",
       "      <td>1000001</td>\n",
       "      <td>P00248942</td>\n",
       "      <td>F</td>\n",
       "      <td>0-17</td>\n",
       "      <td>10</td>\n",
       "      <td>A</td>\n",
       "      <td>2</td>\n",
       "      <td>0</td>\n",
       "      <td>1</td>\n",
       "      <td>6.0</td>\n",
       "      <td>14.0</td>\n",
       "      <td>15200.0</td>\n",
       "    </tr>\n",
       "    <tr>\n",
       "      <th>2</th>\n",
       "      <td>1000001</td>\n",
       "      <td>P00087842</td>\n",
       "      <td>F</td>\n",
       "      <td>0-17</td>\n",
       "      <td>10</td>\n",
       "      <td>A</td>\n",
       "      <td>2</td>\n",
       "      <td>0</td>\n",
       "      <td>12</td>\n",
       "      <td>NaN</td>\n",
       "      <td>NaN</td>\n",
       "      <td>1422.0</td>\n",
       "    </tr>\n",
       "    <tr>\n",
       "      <th>3</th>\n",
       "      <td>1000001</td>\n",
       "      <td>P00085442</td>\n",
       "      <td>F</td>\n",
       "      <td>0-17</td>\n",
       "      <td>10</td>\n",
       "      <td>A</td>\n",
       "      <td>2</td>\n",
       "      <td>0</td>\n",
       "      <td>12</td>\n",
       "      <td>14.0</td>\n",
       "      <td>NaN</td>\n",
       "      <td>1057.0</td>\n",
       "    </tr>\n",
       "    <tr>\n",
       "      <th>4</th>\n",
       "      <td>1000002</td>\n",
       "      <td>P00285442</td>\n",
       "      <td>M</td>\n",
       "      <td>55+</td>\n",
       "      <td>16</td>\n",
       "      <td>C</td>\n",
       "      <td>4+</td>\n",
       "      <td>0</td>\n",
       "      <td>8</td>\n",
       "      <td>NaN</td>\n",
       "      <td>NaN</td>\n",
       "      <td>7969.0</td>\n",
       "    </tr>\n",
       "  </tbody>\n",
       "</table>\n",
       "</div>"
      ],
      "text/plain": [
       "   User_ID Product_ID Gender   Age  Occupation City_Category  \\\n",
       "0  1000001  P00069042      F  0-17          10             A   \n",
       "1  1000001  P00248942      F  0-17          10             A   \n",
       "2  1000001  P00087842      F  0-17          10             A   \n",
       "3  1000001  P00085442      F  0-17          10             A   \n",
       "4  1000002  P00285442      M   55+          16             C   \n",
       "\n",
       "  Stay_In_Current_City_Years  Marital_Status  Product_Category_1  \\\n",
       "0                          2               0                   3   \n",
       "1                          2               0                   1   \n",
       "2                          2               0                  12   \n",
       "3                          2               0                  12   \n",
       "4                         4+               0                   8   \n",
       "\n",
       "   Product_Category_2  Product_Category_3  Purchase  \n",
       "0                 NaN                 NaN    8370.0  \n",
       "1                 6.0                14.0   15200.0  \n",
       "2                 NaN                 NaN    1422.0  \n",
       "3                14.0                 NaN    1057.0  \n",
       "4                 NaN                 NaN    7969.0  "
      ]
     },
     "execution_count": 63,
     "metadata": {},
     "output_type": "execute_result"
    }
   ],
   "source": [
    "df0=pd.read_csv('train.csv')\n",
    "dfx=pd.read_csv('test.csv')\n",
    "print(len(df0))\n",
    "df=pd.concat([df0,dfx],axis=0)\n",
    "df.head()"
   ]
  },
  {
   "cell_type": "code",
   "execution_count": 64,
   "metadata": {},
   "outputs": [
    {
     "data": {
      "text/html": [
       "<div>\n",
       "<style scoped>\n",
       "    .dataframe tbody tr th:only-of-type {\n",
       "        vertical-align: middle;\n",
       "    }\n",
       "\n",
       "    .dataframe tbody tr th {\n",
       "        vertical-align: top;\n",
       "    }\n",
       "\n",
       "    .dataframe thead th {\n",
       "        text-align: right;\n",
       "    }\n",
       "</style>\n",
       "<table border=\"1\" class=\"dataframe\">\n",
       "  <thead>\n",
       "    <tr style=\"text-align: right;\">\n",
       "      <th></th>\n",
       "      <th>User_ID</th>\n",
       "      <th>Product_ID</th>\n",
       "      <th>Gender</th>\n",
       "      <th>Age</th>\n",
       "      <th>Occupation</th>\n",
       "      <th>City_Category</th>\n",
       "      <th>Stay_In_Current_City_Years</th>\n",
       "      <th>Marital_Status</th>\n",
       "      <th>Product_Category_1</th>\n",
       "      <th>Product_Category_2</th>\n",
       "      <th>Product_Category_3</th>\n",
       "      <th>Purchase</th>\n",
       "    </tr>\n",
       "  </thead>\n",
       "  <tbody>\n",
       "    <tr>\n",
       "      <th>0</th>\n",
       "      <td>0</td>\n",
       "      <td>684</td>\n",
       "      <td>F</td>\n",
       "      <td>0-17</td>\n",
       "      <td>10</td>\n",
       "      <td>A</td>\n",
       "      <td>2</td>\n",
       "      <td>0</td>\n",
       "      <td>3</td>\n",
       "      <td>NaN</td>\n",
       "      <td>NaN</td>\n",
       "      <td>8370.0</td>\n",
       "    </tr>\n",
       "    <tr>\n",
       "      <th>1</th>\n",
       "      <td>0</td>\n",
       "      <td>2406</td>\n",
       "      <td>F</td>\n",
       "      <td>0-17</td>\n",
       "      <td>10</td>\n",
       "      <td>A</td>\n",
       "      <td>2</td>\n",
       "      <td>0</td>\n",
       "      <td>1</td>\n",
       "      <td>6.0</td>\n",
       "      <td>14.0</td>\n",
       "      <td>15200.0</td>\n",
       "    </tr>\n",
       "    <tr>\n",
       "      <th>2</th>\n",
       "      <td>0</td>\n",
       "      <td>868</td>\n",
       "      <td>F</td>\n",
       "      <td>0-17</td>\n",
       "      <td>10</td>\n",
       "      <td>A</td>\n",
       "      <td>2</td>\n",
       "      <td>0</td>\n",
       "      <td>12</td>\n",
       "      <td>NaN</td>\n",
       "      <td>NaN</td>\n",
       "      <td>1422.0</td>\n",
       "    </tr>\n",
       "    <tr>\n",
       "      <th>3</th>\n",
       "      <td>0</td>\n",
       "      <td>844</td>\n",
       "      <td>F</td>\n",
       "      <td>0-17</td>\n",
       "      <td>10</td>\n",
       "      <td>A</td>\n",
       "      <td>2</td>\n",
       "      <td>0</td>\n",
       "      <td>12</td>\n",
       "      <td>14.0</td>\n",
       "      <td>NaN</td>\n",
       "      <td>1057.0</td>\n",
       "    </tr>\n",
       "    <tr>\n",
       "      <th>4</th>\n",
       "      <td>1</td>\n",
       "      <td>2769</td>\n",
       "      <td>M</td>\n",
       "      <td>55+</td>\n",
       "      <td>16</td>\n",
       "      <td>C</td>\n",
       "      <td>4+</td>\n",
       "      <td>0</td>\n",
       "      <td>8</td>\n",
       "      <td>NaN</td>\n",
       "      <td>NaN</td>\n",
       "      <td>7969.0</td>\n",
       "    </tr>\n",
       "  </tbody>\n",
       "</table>\n",
       "</div>"
      ],
      "text/plain": [
       "   User_ID  Product_ID Gender   Age  Occupation City_Category  \\\n",
       "0        0         684      F  0-17          10             A   \n",
       "1        0        2406      F  0-17          10             A   \n",
       "2        0         868      F  0-17          10             A   \n",
       "3        0         844      F  0-17          10             A   \n",
       "4        1        2769      M   55+          16             C   \n",
       "\n",
       "  Stay_In_Current_City_Years  Marital_Status  Product_Category_1  \\\n",
       "0                          2               0                   3   \n",
       "1                          2               0                   1   \n",
       "2                          2               0                  12   \n",
       "3                          2               0                  12   \n",
       "4                         4+               0                   8   \n",
       "\n",
       "   Product_Category_2  Product_Category_3  Purchase  \n",
       "0                 NaN                 NaN    8370.0  \n",
       "1                 6.0                14.0   15200.0  \n",
       "2                 NaN                 NaN    1422.0  \n",
       "3                14.0                 NaN    1057.0  \n",
       "4                 NaN                 NaN    7969.0  "
      ]
     },
     "execution_count": 64,
     "metadata": {},
     "output_type": "execute_result"
    }
   ],
   "source": [
    "df0=df\n",
    "df.User_ID=le.fit_transform(df.User_ID)\n",
    "df.Product_ID=le.fit_transform(df.Product_ID)\n",
    "df.head()"
   ]
  },
  {
   "cell_type": "code",
   "execution_count": 65,
   "metadata": {},
   "outputs": [
    {
     "data": {
      "text/plain": [
       "User_ID                            0\n",
       "Product_ID                         0\n",
       "Gender                             0\n",
       "Age                                0\n",
       "Occupation                         0\n",
       "City_Category                      0\n",
       "Stay_In_Current_City_Years         0\n",
       "Marital_Status                     0\n",
       "Product_Category_1                 0\n",
       "Product_Category_2            245982\n",
       "Product_Category_3            545809\n",
       "Purchase                      233599\n",
       "dtype: int64"
      ]
     },
     "execution_count": 65,
     "metadata": {},
     "output_type": "execute_result"
    }
   ],
   "source": [
    "df.isnull().sum()"
   ]
  },
  {
   "cell_type": "code",
   "execution_count": null,
   "metadata": {},
   "outputs": [],
   "source": []
  },
  {
   "cell_type": "code",
   "execution_count": 66,
   "metadata": {},
   "outputs": [
    {
     "data": {
      "text/plain": [
       "16.0    46469\n",
       "15.0    39968\n",
       "14.0    26283\n",
       "17.0    23818\n",
       "5.0     23799\n",
       "8.0     17861\n",
       "9.0     16532\n",
       "12.0    13115\n",
       "13.0     7849\n",
       "6.0      6888\n",
       "18.0     6621\n",
       "4.0      2691\n",
       "11.0     2585\n",
       "10.0     2501\n",
       "3.0       878\n",
       "Name: Product_Category_3, dtype: int64"
      ]
     },
     "execution_count": 66,
     "metadata": {},
     "output_type": "execute_result"
    }
   ],
   "source": [
    "df.Product_Category_3.value_counts()"
   ]
  },
  {
   "cell_type": "code",
   "execution_count": 67,
   "metadata": {},
   "outputs": [
    {
     "data": {
      "text/plain": [
       "2"
      ]
     },
     "execution_count": 67,
     "metadata": {},
     "output_type": "execute_result"
    }
   ],
   "source": [
    "len(df.Gender.unique())"
   ]
  },
  {
   "cell_type": "code",
   "execution_count": 68,
   "metadata": {},
   "outputs": [],
   "source": [
    "df.Gender=df.Gender.apply(lambda x: 1 if x=='M'   else 0)"
   ]
  },
  {
   "cell_type": "code",
   "execution_count": 69,
   "metadata": {},
   "outputs": [
    {
     "data": {
      "text/plain": [
       "26-35    313015\n",
       "36-45    156724\n",
       "18-25    141953\n",
       "46-50     65278\n",
       "51-55     54784\n",
       "55+       30579\n",
       "0-17      21334\n",
       "Name: Age, dtype: int64"
      ]
     },
     "execution_count": 69,
     "metadata": {},
     "output_type": "execute_result"
    }
   ],
   "source": [
    "df.Age.value_counts()"
   ]
  },
  {
   "cell_type": "code",
   "execution_count": 70,
   "metadata": {},
   "outputs": [],
   "source": [
    "df.Age=df.Age.apply(lambda x: (int(x.split('-')[0])+int(x.split('-')[1]))/2 if len(x.split('-'))==2   else x)\n",
    "df.Age=df.Age.apply(lambda x: 60 if x=='55+'   else x)\n"
   ]
  },
  {
   "cell_type": "code",
   "execution_count": 71,
   "metadata": {},
   "outputs": [],
   "source": [
    "df.City_Category=df.City_Category.apply(lambda x: 1 if x=='A'   else x)\n",
    "df.City_Category=df.City_Category.apply(lambda x: 2 if x=='B'   else x)\n",
    "df.City_Category=df.City_Category.apply(lambda x: 3 if x=='C'   else x)"
   ]
  },
  {
   "cell_type": "code",
   "execution_count": 72,
   "metadata": {},
   "outputs": [
    {
     "data": {
      "text/plain": [
       "2    329739\n",
       "3    243684\n",
       "1    210244\n",
       "Name: City_Category, dtype: int64"
      ]
     },
     "execution_count": 72,
     "metadata": {},
     "output_type": "execute_result"
    }
   ],
   "source": [
    "df.City_Category.value_counts()"
   ]
  },
  {
   "cell_type": "code",
   "execution_count": 73,
   "metadata": {},
   "outputs": [],
   "source": [
    "df.Stay_In_Current_City_Years=df.Stay_In_Current_City_Years.apply(lambda x: 4 if x=='4+'   else x)"
   ]
  },
  {
   "cell_type": "code",
   "execution_count": 74,
   "metadata": {},
   "outputs": [
    {
     "data": {
      "text/plain": [
       "1    276425\n",
       "2    145427\n",
       "3    135428\n",
       "4    120671\n",
       "0    105716\n",
       "Name: Stay_In_Current_City_Years, dtype: int64"
      ]
     },
     "execution_count": 74,
     "metadata": {},
     "output_type": "execute_result"
    }
   ],
   "source": [
    "df.Stay_In_Current_City_Years.value_counts()"
   ]
  },
  {
   "cell_type": "code",
   "execution_count": 75,
   "metadata": {},
   "outputs": [],
   "source": [
    "df=df.fillna(1)"
   ]
  },
  {
   "cell_type": "code",
   "execution_count": 76,
   "metadata": {},
   "outputs": [
    {
     "data": {
      "text/plain": [
       "222"
      ]
     },
     "execution_count": 76,
     "metadata": {},
     "output_type": "execute_result"
    }
   ],
   "source": [
    "x=np.array(df.User_ID.value_counts()>500)\n",
    "np.sum(x)"
   ]
  },
  {
   "cell_type": "code",
   "execution_count": 19,
   "metadata": {},
   "outputs": [
    {
     "data": {
      "image/png": "[encoded data removed]",
      "text/plain": [
       "<Figure size 1440x1440 with 2 Axes>"
      ]
     },
     "metadata": {
      "needs_background": "light"
     },
     "output_type": "display_data"
    }
   ],
   "source": [
    "import pandas as pd\n",
    "import numpy as np\n",
    "import seaborn as sns\n",
    "#get correlations of each features in dataset\n",
    "corrmat = df.corr()\n",
    "top_corr_features = corrmat.index\n",
    "plt.figure(figsize=(20,20))\n",
    "#plot heat map\n",
    "g=sns.heatmap(df[top_corr_features].corr(),annot=True,cmap=\"RdYlGn\")"
   ]
  },
  {
   "cell_type": "code",
   "execution_count": 77,
   "metadata": {},
   "outputs": [],
   "source": [
    "X1=df[['Product_Category_1','Product_Category_3','Product_ID','Gender','City_Category']]"
   ]
  },
  {
   "cell_type": "code",
   "execution_count": 78,
   "metadata": {},
   "outputs": [],
   "source": [
    " from sklearn.preprocessing import PolynomialFeatures"
   ]
  },
  {
   "cell_type": "code",
   "execution_count": 79,
   "metadata": {},
   "outputs": [],
   "source": [
    "poly = PolynomialFeatures(interaction_only=True,degree=2)\n",
    "X1=poly.fit_transform(X1)\n",
    "X1 = pd.DataFrame(X1)"
   ]
  },
  {
   "cell_type": "code",
   "execution_count": 80,
   "metadata": {},
   "outputs": [
    {
     "data": {
      "text/html": [
       "<div>\n",
       "<style scoped>\n",
       "    .dataframe tbody tr th:only-of-type {\n",
       "        vertical-align: middle;\n",
       "    }\n",
       "\n",
       "    .dataframe tbody tr th {\n",
       "        vertical-align: top;\n",
       "    }\n",
       "\n",
       "    .dataframe thead th {\n",
       "        text-align: right;\n",
       "    }\n",
       "</style>\n",
       "<table border=\"1\" class=\"dataframe\">\n",
       "  <thead>\n",
       "    <tr style=\"text-align: right;\">\n",
       "      <th></th>\n",
       "      <th>0</th>\n",
       "      <th>1</th>\n",
       "      <th>2</th>\n",
       "      <th>3</th>\n",
       "      <th>4</th>\n",
       "      <th>5</th>\n",
       "      <th>6</th>\n",
       "      <th>7</th>\n",
       "      <th>8</th>\n",
       "      <th>9</th>\n",
       "      <th>10</th>\n",
       "      <th>11</th>\n",
       "      <th>12</th>\n",
       "      <th>13</th>\n",
       "      <th>14</th>\n",
       "      <th>15</th>\n",
       "    </tr>\n",
       "  </thead>\n",
       "  <tbody>\n",
       "    <tr>\n",
       "      <th>0</th>\n",
       "      <td>1.0</td>\n",
       "      <td>-0.610134</td>\n",
       "      <td>-0.607847</td>\n",
       "      <td>-1.020547</td>\n",
       "      <td>-1.745599</td>\n",
       "      <td>-1.372156</td>\n",
       "      <td>-0.469052</td>\n",
       "      <td>-0.719176</td>\n",
       "      <td>-0.963792</td>\n",
       "      <td>-0.838956</td>\n",
       "      <td>-0.569081</td>\n",
       "      <td>-0.637881</td>\n",
       "      <td>-0.628296</td>\n",
       "      <td>-1.128042</td>\n",
       "      <td>-1.097105</td>\n",
       "      <td>-1.396448</td>\n",
       "    </tr>\n",
       "    <tr>\n",
       "      <th>1</th>\n",
       "      <td>1.0</td>\n",
       "      <td>-1.125843</td>\n",
       "      <td>1.623321</td>\n",
       "      <td>0.664537</td>\n",
       "      <td>-1.745599</td>\n",
       "      <td>-1.372156</td>\n",
       "      <td>-0.065850</td>\n",
       "      <td>-0.685040</td>\n",
       "      <td>-0.963792</td>\n",
       "      <td>-1.051141</td>\n",
       "      <td>2.381962</td>\n",
       "      <td>-0.637881</td>\n",
       "      <td>0.340159</td>\n",
       "      <td>-1.128042</td>\n",
       "      <td>-0.433741</td>\n",
       "      <td>-1.396448</td>\n",
       "    </tr>\n",
       "    <tr>\n",
       "      <th>2</th>\n",
       "      <td>1.0</td>\n",
       "      <td>1.710556</td>\n",
       "      <td>-0.607847</td>\n",
       "      <td>-0.840491</td>\n",
       "      <td>-1.745599</td>\n",
       "      <td>-1.372156</td>\n",
       "      <td>-0.139159</td>\n",
       "      <td>0.087368</td>\n",
       "      <td>-0.963792</td>\n",
       "      <td>0.115877</td>\n",
       "      <td>-0.552627</td>\n",
       "      <td>-0.637881</td>\n",
       "      <td>-0.628296</td>\n",
       "      <td>-1.128042</td>\n",
       "      <td>-1.026223</td>\n",
       "      <td>-1.396448</td>\n",
       "    </tr>\n",
       "    <tr>\n",
       "      <th>3</th>\n",
       "      <td>1.0</td>\n",
       "      <td>1.710556</td>\n",
       "      <td>-0.607847</td>\n",
       "      <td>-0.863977</td>\n",
       "      <td>-1.745599</td>\n",
       "      <td>-1.372156</td>\n",
       "      <td>-0.139159</td>\n",
       "      <td>0.059596</td>\n",
       "      <td>-0.963792</td>\n",
       "      <td>0.115877</td>\n",
       "      <td>-0.554773</td>\n",
       "      <td>-0.637881</td>\n",
       "      <td>-0.628296</td>\n",
       "      <td>-1.128042</td>\n",
       "      <td>-1.035469</td>\n",
       "      <td>-1.396448</td>\n",
       "    </tr>\n",
       "    <tr>\n",
       "      <th>4</th>\n",
       "      <td>1.0</td>\n",
       "      <td>0.679138</td>\n",
       "      <td>-0.607847</td>\n",
       "      <td>1.019755</td>\n",
       "      <td>0.572869</td>\n",
       "      <td>1.259845</td>\n",
       "      <td>-0.285778</td>\n",
       "      <td>1.219075</td>\n",
       "      <td>0.981803</td>\n",
       "      <td>1.388988</td>\n",
       "      <td>-0.382629</td>\n",
       "      <td>-0.456159</td>\n",
       "      <td>-0.479303</td>\n",
       "      <td>1.261445</td>\n",
       "      <td>1.839493</td>\n",
       "      <td>1.329700</td>\n",
       "    </tr>\n",
       "  </tbody>\n",
       "</table>\n",
       "</div>"
      ],
      "text/plain": [
       "     0         1         2         3         4         5         6         7  \\\n",
       "0  1.0 -0.610134 -0.607847 -1.020547 -1.745599 -1.372156 -0.469052 -0.719176   \n",
       "1  1.0 -1.125843  1.623321  0.664537 -1.745599 -1.372156 -0.065850 -0.685040   \n",
       "2  1.0  1.710556 -0.607847 -0.840491 -1.745599 -1.372156 -0.139159  0.087368   \n",
       "3  1.0  1.710556 -0.607847 -0.863977 -1.745599 -1.372156 -0.139159  0.059596   \n",
       "4  1.0  0.679138 -0.607847  1.019755  0.572869  1.259845 -0.285778  1.219075   \n",
       "\n",
       "          8         9        10        11        12        13        14  \\\n",
       "0 -0.963792 -0.838956 -0.569081 -0.637881 -0.628296 -1.128042 -1.097105   \n",
       "1 -0.963792 -1.051141  2.381962 -0.637881  0.340159 -1.128042 -0.433741   \n",
       "2 -0.963792  0.115877 -0.552627 -0.637881 -0.628296 -1.128042 -1.026223   \n",
       "3 -0.963792  0.115877 -0.554773 -0.637881 -0.628296 -1.128042 -1.035469   \n",
       "4  0.981803  1.388988 -0.382629 -0.456159 -0.479303  1.261445  1.839493   \n",
       "\n",
       "         15  \n",
       "0 -1.396448  \n",
       "1 -1.396448  \n",
       "2 -1.396448  \n",
       "3 -1.396448  \n",
       "4  1.329700  "
      ]
     },
     "execution_count": 80,
     "metadata": {},
     "output_type": "execute_result"
    }
   ],
   "source": [
    "scaler=StandardScaler()\n",
    "X1[1]=scaler.fit_transform(X1[[1]])\n",
    "X1[2]=scaler.fit_transform(X1[[2]])\n",
    "X1[3]=scaler.fit_transform(X1[[3]])\n",
    "X1[4]=scaler.fit_transform(X1[[4]])\n",
    "X1[5]=scaler.fit_transform(X1[[5]])\n",
    "X1[6]=scaler.fit_transform(X1[[6]])\n",
    "X1[7]=scaler.fit_transform(X1[[7]])\n",
    "X1[8]=scaler.fit_transform(X1[[8]])\n",
    "X1[9]=scaler.fit_transform(X1[[9]])\n",
    "X1[10]=scaler.fit_transform(X1[[10]])\n",
    "X1[11]=scaler.fit_transform(X1[[11]])\n",
    "X1[12]=scaler.fit_transform(X1[[12]])\n",
    "X1[13]=scaler.fit_transform(X1[[13]])\n",
    "X1[14]=scaler.fit_transform(X1[[14]])\n",
    "X1[15]=scaler.fit_transform(X1[[15]])\n",
    "\n",
    "X1.head()"
   ]
  },
  {
   "cell_type": "code",
   "execution_count": 81,
   "metadata": {},
   "outputs": [
    {
     "data": {
      "text/html": [
       "<div>\n",
       "<style scoped>\n",
       "    .dataframe tbody tr th:only-of-type {\n",
       "        vertical-align: middle;\n",
       "    }\n",
       "\n",
       "    .dataframe tbody tr th {\n",
       "        vertical-align: top;\n",
       "    }\n",
       "\n",
       "    .dataframe thead th {\n",
       "        text-align: right;\n",
       "    }\n",
       "</style>\n",
       "<table border=\"1\" class=\"dataframe\">\n",
       "  <thead>\n",
       "    <tr style=\"text-align: right;\">\n",
       "      <th></th>\n",
       "      <th>0</th>\n",
       "      <th>1</th>\n",
       "      <th>2</th>\n",
       "      <th>3</th>\n",
       "      <th>4</th>\n",
       "      <th>5</th>\n",
       "      <th>6</th>\n",
       "      <th>7</th>\n",
       "      <th>8</th>\n",
       "      <th>9</th>\n",
       "      <th>10</th>\n",
       "      <th>11</th>\n",
       "      <th>12</th>\n",
       "      <th>13</th>\n",
       "      <th>14</th>\n",
       "      <th>15</th>\n",
       "    </tr>\n",
       "  </thead>\n",
       "  <tbody>\n",
       "    <tr>\n",
       "      <th>0</th>\n",
       "      <td>1.0</td>\n",
       "      <td>-0.610134</td>\n",
       "      <td>-0.607847</td>\n",
       "      <td>-1.020547</td>\n",
       "      <td>-1.745599</td>\n",
       "      <td>-1.372156</td>\n",
       "      <td>-0.469052</td>\n",
       "      <td>-0.719176</td>\n",
       "      <td>-0.963792</td>\n",
       "      <td>-0.838956</td>\n",
       "      <td>-0.569081</td>\n",
       "      <td>-0.637881</td>\n",
       "      <td>-0.628296</td>\n",
       "      <td>-1.128042</td>\n",
       "      <td>-1.097105</td>\n",
       "      <td>-1.396448</td>\n",
       "    </tr>\n",
       "    <tr>\n",
       "      <th>1</th>\n",
       "      <td>1.0</td>\n",
       "      <td>-1.125843</td>\n",
       "      <td>1.623321</td>\n",
       "      <td>0.664537</td>\n",
       "      <td>-1.745599</td>\n",
       "      <td>-1.372156</td>\n",
       "      <td>-0.065850</td>\n",
       "      <td>-0.685040</td>\n",
       "      <td>-0.963792</td>\n",
       "      <td>-1.051141</td>\n",
       "      <td>2.381962</td>\n",
       "      <td>-0.637881</td>\n",
       "      <td>0.340159</td>\n",
       "      <td>-1.128042</td>\n",
       "      <td>-0.433741</td>\n",
       "      <td>-1.396448</td>\n",
       "    </tr>\n",
       "    <tr>\n",
       "      <th>2</th>\n",
       "      <td>1.0</td>\n",
       "      <td>1.710556</td>\n",
       "      <td>-0.607847</td>\n",
       "      <td>-0.840491</td>\n",
       "      <td>-1.745599</td>\n",
       "      <td>-1.372156</td>\n",
       "      <td>-0.139159</td>\n",
       "      <td>0.087368</td>\n",
       "      <td>-0.963792</td>\n",
       "      <td>0.115877</td>\n",
       "      <td>-0.552627</td>\n",
       "      <td>-0.637881</td>\n",
       "      <td>-0.628296</td>\n",
       "      <td>-1.128042</td>\n",
       "      <td>-1.026223</td>\n",
       "      <td>-1.396448</td>\n",
       "    </tr>\n",
       "    <tr>\n",
       "      <th>3</th>\n",
       "      <td>1.0</td>\n",
       "      <td>1.710556</td>\n",
       "      <td>-0.607847</td>\n",
       "      <td>-0.863977</td>\n",
       "      <td>-1.745599</td>\n",
       "      <td>-1.372156</td>\n",
       "      <td>-0.139159</td>\n",
       "      <td>0.059596</td>\n",
       "      <td>-0.963792</td>\n",
       "      <td>0.115877</td>\n",
       "      <td>-0.554773</td>\n",
       "      <td>-0.637881</td>\n",
       "      <td>-0.628296</td>\n",
       "      <td>-1.128042</td>\n",
       "      <td>-1.035469</td>\n",
       "      <td>-1.396448</td>\n",
       "    </tr>\n",
       "    <tr>\n",
       "      <th>4</th>\n",
       "      <td>1.0</td>\n",
       "      <td>0.679138</td>\n",
       "      <td>-0.607847</td>\n",
       "      <td>1.019755</td>\n",
       "      <td>0.572869</td>\n",
       "      <td>1.259845</td>\n",
       "      <td>-0.285778</td>\n",
       "      <td>1.219075</td>\n",
       "      <td>0.981803</td>\n",
       "      <td>1.388988</td>\n",
       "      <td>-0.382629</td>\n",
       "      <td>-0.456159</td>\n",
       "      <td>-0.479303</td>\n",
       "      <td>1.261445</td>\n",
       "      <td>1.839493</td>\n",
       "      <td>1.329700</td>\n",
       "    </tr>\n",
       "  </tbody>\n",
       "</table>\n",
       "</div>"
      ],
      "text/plain": [
       "     0         1         2         3         4         5         6         7  \\\n",
       "0  1.0 -0.610134 -0.607847 -1.020547 -1.745599 -1.372156 -0.469052 -0.719176   \n",
       "1  1.0 -1.125843  1.623321  0.664537 -1.745599 -1.372156 -0.065850 -0.685040   \n",
       "2  1.0  1.710556 -0.607847 -0.840491 -1.745599 -1.372156 -0.139159  0.087368   \n",
       "3  1.0  1.710556 -0.607847 -0.863977 -1.745599 -1.372156 -0.139159  0.059596   \n",
       "4  1.0  0.679138 -0.607847  1.019755  0.572869  1.259845 -0.285778  1.219075   \n",
       "\n",
       "          8         9        10        11        12        13        14  \\\n",
       "0 -0.963792 -0.838956 -0.569081 -0.637881 -0.628296 -1.128042 -1.097105   \n",
       "1 -0.963792 -1.051141  2.381962 -0.637881  0.340159 -1.128042 -0.433741   \n",
       "2 -0.963792  0.115877 -0.552627 -0.637881 -0.628296 -1.128042 -1.026223   \n",
       "3 -0.963792  0.115877 -0.554773 -0.637881 -0.628296 -1.128042 -1.035469   \n",
       "4  0.981803  1.388988 -0.382629 -0.456159 -0.479303  1.261445  1.839493   \n",
       "\n",
       "         15  \n",
       "0 -1.396448  \n",
       "1 -1.396448  \n",
       "2 -1.396448  \n",
       "3 -1.396448  \n",
       "4  1.329700  "
      ]
     },
     "execution_count": 81,
     "metadata": {},
     "output_type": "execute_result"
    }
   ],
   "source": [
    "#X1['Product_Category_1']=scaler.fit_transform(X1[['Product_Category_1']])\n",
    "#X1['Product_Category_3']=scaler.fit_transform(X1[['Product_Category_3']])\n",
    "#X1['Product_ID']=scaler.fit_transform(X1[['Product_ID']])\n",
    "#X1[4]=scaler.fit_transform(X1[[4]])\n",
    "#X1[5]=scaler.fit_transform(X1[[5]])\n",
    "X1.head()"
   ]
  },
  {
   "cell_type": "code",
   "execution_count": 85,
   "metadata": {},
   "outputs": [],
   "source": [
    "y=df.Purchase[:550068]\n",
    "X2=X1[:550068]\n",
    "\n"
   ]
  },
  {
   "cell_type": "code",
   "execution_count": 25,
   "metadata": {},
   "outputs": [],
   "source": [
    "xtr, xte, ytr, yte=tts(X2,y,test_size=0.90)"
   ]
  },
  {
   "cell_type": "code",
   "execution_count": 26,
   "metadata": {},
   "outputs": [],
   "source": [
    "from sklearn import model_selection ,metrics"
   ]
  },
  {
   "cell_type": "code",
   "execution_count": 207,
   "metadata": {},
   "outputs": [
    {
     "data": {
      "text/plain": [
       "4643.680206097807"
      ]
     },
     "execution_count": 207,
     "metadata": {},
     "output_type": "execute_result"
    }
   ],
   "source": [
    "alg4 =Ridge()\n",
    "cv_score=model_selection.cross_val_score(alg4,X2,y,cv=20,scoring='neg_mean_squared_error')\n",
    "cv_score=np.sqrt(np.abs(cv_score))\n",
    "np.mean(cv_score)"
   ]
  },
  {
   "cell_type": "code",
   "execution_count": 97,
   "metadata": {},
   "outputs": [
    {
     "data": {
      "text/plain": [
       "4586.289295335797"
      ]
     },
     "execution_count": 97,
     "metadata": {},
     "output_type": "execute_result"
    }
   ],
   "source": [
    "alg4 = LinearRegression()\n",
    "cv_score=model_selection.cross_val_score(alg4,X2,y,cv=20,scoring='neg_mean_squared_error')\n",
    "cv_score=np.sqrt(np.abs(cv_score))\n",
    "np.mean(cv_score)"
   ]
  },
  {
   "cell_type": "code",
   "execution_count": 32,
   "metadata": {},
   "outputs": [
    {
     "data": {
      "text/plain": [
       "5216.591119598481"
      ]
     },
     "execution_count": 32,
     "metadata": {},
     "output_type": "execute_result"
    }
   ],
   "source": [
    "alg4 = SVR()\n",
    "cv_score=model_selection.cross_val_score(alg4,X2,y,cv=20,scoring='neg_mean_squared_error')\n",
    "cv_score=np.sqrt(np.abs(cv_score))\n",
    "np.mean(cv_score)"
   ]
  },
  {
   "cell_type": "code",
   "execution_count": 62,
   "metadata": {},
   "outputs": [
    {
     "data": {
      "text/plain": [
       "3160.560452163378"
      ]
     },
     "execution_count": 62,
     "metadata": {},
     "output_type": "execute_result"
    }
   ],
   "source": [
    "alg3 = RandomForestRegressor(n_estimators=60)\n",
    "cv_score=model_selection.cross_val_score(alg3,X2,y,cv=20,scoring='neg_mean_squared_error')\n",
    "cv_score=np.sqrt(np.abs(cv_score))\n",
    "np.mean(cv_score)"
   ]
  },
  {
   "cell_type": "code",
   "execution_count": 28,
   "metadata": {},
   "outputs": [
    {
     "data": {
      "text/plain": [
       "2687.8278798702695"
      ]
     },
     "execution_count": 28,
     "metadata": {},
     "output_type": "execute_result"
    }
   ],
   "source": [
    "alg4 = DecisionTreeRegressor(max_depth=28, min_samples_leaf=20,min_samples_split=15)\n",
    "cv_score=model_selection.cross_val_score(alg4,X2,y,cv=20,scoring='neg_mean_squared_error')\n",
    "cv_score=np.sqrt(np.abs(cv_score))\n",
    "np.mean(cv_score)"
   ]
  },
  {
   "cell_type": "code",
   "execution_count": 63,
   "metadata": {},
   "outputs": [
    {
     "data": {
      "text/plain": [
       "2982.3644476364925"
      ]
     },
     "execution_count": 63,
     "metadata": {},
     "output_type": "execute_result"
    }
   ],
   "source": [
    "from sklearn.ensemble import GradientBoostingRegressor\n",
    "alg2 =GradientBoostingRegressor()\n",
    "cv_score=model_selection.cross_val_score(alg2,xtr,ytr,cv=20,scoring='neg_mean_squared_error')\n",
    "cv_score=np.sqrt(np.abs(cv_score))\n",
    "np.mean(cv_score)"
   ]
  },
  {
   "cell_type": "code",
   "execution_count": 29,
   "metadata": {},
   "outputs": [
    {
     "data": {
      "text/plain": [
       "DecisionTreeRegressor(ccp_alpha=0.0, criterion='mse', max_depth=28,\n",
       "                      max_features=None, max_leaf_nodes=None,\n",
       "                      min_impurity_decrease=0.0, min_impurity_split=None,\n",
       "                      min_samples_leaf=20, min_samples_split=15,\n",
       "                      min_weight_fraction_leaf=0.0, presort='deprecated',\n",
       "                      random_state=None, splitter='best')"
      ]
     },
     "execution_count": 29,
     "metadata": {},
     "output_type": "execute_result"
    }
   ],
   "source": [
    "alg4.fit(X2,y)\n"
   ]
  },
  {
   "cell_type": "code",
   "execution_count": 66,
   "metadata": {},
   "outputs": [
    {
     "data": {
      "text/plain": [
       "GradientBoostingRegressor(alpha=0.9, ccp_alpha=0.0, criterion='friedman_mse',\n",
       "                          init=None, learning_rate=0.1, loss='ls', max_depth=3,\n",
       "                          max_features=None, max_leaf_nodes=None,\n",
       "                          min_impurity_decrease=0.0, min_impurity_split=None,\n",
       "                          min_samples_leaf=1, min_samples_split=2,\n",
       "                          min_weight_fraction_leaf=0.0, n_estimators=100,\n",
       "                          n_iter_no_change=None, presort='deprecated',\n",
       "                          random_state=None, subsample=1.0, tol=0.0001,\n",
       "                          validation_fraction=0.1, verbose=0, warm_start=False)"
      ]
     },
     "execution_count": 66,
     "metadata": {},
     "output_type": "execute_result"
    }
   ],
   "source": [
    "alg2.fit(xtr,ytr)"
   ]
  },
  {
   "cell_type": "code",
   "execution_count": 30,
   "metadata": {},
   "outputs": [],
   "source": [
    "ans4=alg4.predict(X1[550068:])"
   ]
  },
  {
   "cell_type": "code",
   "execution_count": 31,
   "metadata": {},
   "outputs": [
    {
     "data": {
      "text/html": [
       "<div>\n",
       "<style scoped>\n",
       "    .dataframe tbody tr th:only-of-type {\n",
       "        vertical-align: middle;\n",
       "    }\n",
       "\n",
       "    .dataframe tbody tr th {\n",
       "        vertical-align: top;\n",
       "    }\n",
       "\n",
       "    .dataframe thead th {\n",
       "        text-align: right;\n",
       "    }\n",
       "</style>\n",
       "<table border=\"1\" class=\"dataframe\">\n",
       "  <thead>\n",
       "    <tr style=\"text-align: right;\">\n",
       "      <th></th>\n",
       "      <th>Purchase</th>\n",
       "      <th>User_ID</th>\n",
       "      <th>Product_ID</th>\n",
       "    </tr>\n",
       "  </thead>\n",
       "  <tbody>\n",
       "    <tr>\n",
       "      <th>0</th>\n",
       "      <td>15781.118590</td>\n",
       "      <td>1000004</td>\n",
       "      <td>P00128942</td>\n",
       "    </tr>\n",
       "    <tr>\n",
       "      <th>1</th>\n",
       "      <td>11746.665354</td>\n",
       "      <td>1000009</td>\n",
       "      <td>P00113442</td>\n",
       "    </tr>\n",
       "    <tr>\n",
       "      <th>2</th>\n",
       "      <td>5731.338028</td>\n",
       "      <td>1000010</td>\n",
       "      <td>P00288442</td>\n",
       "    </tr>\n",
       "    <tr>\n",
       "      <th>3</th>\n",
       "      <td>2057.468750</td>\n",
       "      <td>1000010</td>\n",
       "      <td>P00145342</td>\n",
       "    </tr>\n",
       "    <tr>\n",
       "      <th>4</th>\n",
       "      <td>2585.590829</td>\n",
       "      <td>1000011</td>\n",
       "      <td>P00053842</td>\n",
       "    </tr>\n",
       "  </tbody>\n",
       "</table>\n",
       "</div>"
      ],
      "text/plain": [
       "       Purchase  User_ID Product_ID\n",
       "0  15781.118590  1000004  P00128942\n",
       "1  11746.665354  1000009  P00113442\n",
       "2   5731.338028  1000010  P00288442\n",
       "3   2057.468750  1000010  P00145342\n",
       "4   2585.590829  1000011  P00053842"
      ]
     },
     "execution_count": 31,
     "metadata": {},
     "output_type": "execute_result"
    }
   ],
   "source": [
    "xx=pd.read_csv('submission.csv')\n",
    "xx.head()"
   ]
  },
  {
   "cell_type": "code",
   "execution_count": 32,
   "metadata": {},
   "outputs": [
    {
     "data": {
      "text/html": [
       "<div>\n",
       "<style scoped>\n",
       "    .dataframe tbody tr th:only-of-type {\n",
       "        vertical-align: middle;\n",
       "    }\n",
       "\n",
       "    .dataframe tbody tr th {\n",
       "        vertical-align: top;\n",
       "    }\n",
       "\n",
       "    .dataframe thead th {\n",
       "        text-align: right;\n",
       "    }\n",
       "</style>\n",
       "<table border=\"1\" class=\"dataframe\">\n",
       "  <thead>\n",
       "    <tr style=\"text-align: right;\">\n",
       "      <th></th>\n",
       "      <th>Purchase</th>\n",
       "      <th>User_ID</th>\n",
       "      <th>Product_ID</th>\n",
       "    </tr>\n",
       "  </thead>\n",
       "  <tbody>\n",
       "    <tr>\n",
       "      <th>0</th>\n",
       "      <td>15943.738411</td>\n",
       "      <td>1000004</td>\n",
       "      <td>P00128942</td>\n",
       "    </tr>\n",
       "    <tr>\n",
       "      <th>1</th>\n",
       "      <td>11438.242424</td>\n",
       "      <td>1000009</td>\n",
       "      <td>P00113442</td>\n",
       "    </tr>\n",
       "    <tr>\n",
       "      <th>2</th>\n",
       "      <td>5189.478261</td>\n",
       "      <td>1000010</td>\n",
       "      <td>P00288442</td>\n",
       "    </tr>\n",
       "    <tr>\n",
       "      <th>3</th>\n",
       "      <td>2191.350000</td>\n",
       "      <td>1000010</td>\n",
       "      <td>P00145342</td>\n",
       "    </tr>\n",
       "    <tr>\n",
       "      <th>4</th>\n",
       "      <td>2325.240741</td>\n",
       "      <td>1000011</td>\n",
       "      <td>P00053842</td>\n",
       "    </tr>\n",
       "  </tbody>\n",
       "</table>\n",
       "</div>"
      ],
      "text/plain": [
       "       Purchase  User_ID Product_ID\n",
       "0  15943.738411  1000004  P00128942\n",
       "1  11438.242424  1000009  P00113442\n",
       "2   5189.478261  1000010  P00288442\n",
       "3   2191.350000  1000010  P00145342\n",
       "4   2325.240741  1000011  P00053842"
      ]
     },
     "execution_count": 32,
     "metadata": {},
     "output_type": "execute_result"
    }
   ],
   "source": [
    "xx['Purchase']=ans4\n",
    "xx.head()"
   ]
  },
  {
   "cell_type": "code",
   "execution_count": 33,
   "metadata": {},
   "outputs": [],
   "source": [
    "xx.to_csv('submission.csv',index=False)"
   ]
  },
  {
   "cell_type": "code",
   "execution_count": null,
   "metadata": {},
   "outputs": [],
   "source": []
  },
  {
   "cell_type": "code",
   "execution_count": null,
   "metadata": {},
   "outputs": [],
   "source": []
  }
 ],
 "metadata": {
  "kernelspec": {
   "display_name": "Python 3",
   "language": "python",
   "name": "python3"
  },
  "language_info": {
   "codemirror_mode": {
    "name": "ipython",
    "version": 3
   },
   "file_extension": ".py",
   "mimetype": "text/x-python",
   "name": "python",
   "nbconvert_exporter": "python",
   "pygments_lexer": "ipython3",
   "version": "3.7.6"
  }
 },
 "nbformat": 4,
 "nbformat_minor": 4
}
